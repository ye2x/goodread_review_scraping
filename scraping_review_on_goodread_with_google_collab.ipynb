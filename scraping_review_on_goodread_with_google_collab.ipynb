{
  "nbformat": 4,
  "nbformat_minor": 0,
  "metadata": {
    "colab": {
      "provenance": []
    },
    "kernelspec": {
      "name": "python3",
      "display_name": "Python 3"
    },
    "language_info": {
      "name": "python"
    }
  },
  "cells": [
    {
      "cell_type": "code",
      "execution_count": null,
      "metadata": {
        "collapsed": true,
        "id": "XiHSuZQvTG2B"
      },
      "outputs": [],
      "source": [
        "!pip install selenium"
      ]
    },
    {
      "cell_type": "code",
      "source": [
        "import re\n",
        "import time\n",
        "from selenium import webdriver\n",
        "from selenium.webdriver.common.by import By\n",
        "from selenium.webdriver.common.action_chains import ActionChains\n",
        "from selenium.webdriver.support.ui import WebDriverWait\n",
        "from selenium.webdriver.support import expected_conditions as EC\n"
      ],
      "metadata": {
        "id": "vSnDZbTPTIjt"
      },
      "execution_count": 2,
      "outputs": []
    },
    {
      "cell_type": "code",
      "source": [
        "# Input Alamat Web yang menuju riview\n",
        "link = \"https://www.goodreads.com/book/show/325779/reviews\"\n",
        "\n",
        "# Fungsi untuk inisialisasi WebDriver\n",
        "def web_driver():\n",
        "    options = webdriver.ChromeOptions()\n",
        "    options.add_argument(\"--verbose\")\n",
        "    options.add_argument('--no-sandbox')\n",
        "    options.add_argument('--headless')\n",
        "    options.add_argument('--disable-gpu')\n",
        "    options.add_argument(\"--window-size=1920, 1200\")\n",
        "    options.add_argument('--disable-dev-shm-usage')\n",
        "    driver = webdriver.Chrome(options=options)\n",
        "    return driver\n",
        "\n",
        "def click_expand_buttons_until_gone(driver, expand_button_xpath):\n",
        "    while True:\n",
        "        try:\n",
        "            # Tunggu tombol \"Expand\" tersedia (jika ada)\n",
        "            expand_button = WebDriverWait(driver, 5).until(\n",
        "                EC.presence_of_element_located((By.XPATH, expand_button_xpath))\n",
        "            )\n",
        "\n",
        "            # Scroll ke elemen untuk memastikan terlihat\n",
        "            driver.execute_script(\"arguments[0].scrollIntoView(true);\", expand_button)\n",
        "            time.sleep(1)\n",
        "\n",
        "            # Klik tombol \"Expand\" menggunakan ActionChains\n",
        "            actions = ActionChains(driver)\n",
        "            actions.move_to_element(expand_button).click().perform()\n",
        "            print(\"Tombol Expand berhasil diklik.\")\n",
        "\n",
        "            # Tunggu sebentar untuk memastikan konten dimuat\n",
        "            time.sleep(2)\n",
        "\n",
        "        except Exception as e:\n",
        "            # Jika tombol \"Expand\" tidak ditemukan lagi, keluar dari loop\n",
        "            # print(\"Tidak ada tombol Expand yang tersisa atau terjadi kesalahan:\", e)\n",
        "            break\n",
        "\n",
        "# Fungsi utama\n",
        "def main():\n",
        "    # Inisialisasi WebDriver dan buka URL\n",
        "    driver = web_driver()\n",
        "    url = link\n",
        "    driver.get(url)\n",
        "    time.sleep(5)\n",
        "\n",
        "    # XPath tombol \"Expand\"\n",
        "    expand_button_xpath = \"/html/body/div[1]/div[2]/main/div[1]/div[2]/div[5]/div[4]/div/button\"\n",
        "\n",
        "    click_expand_buttons_until_gone(driver, expand_button_xpath)\n",
        "    # XPath untuk elemen-elemen yang relevan\n",
        "    common_xpath = \"/html/body/div[1]/div[2]/main/div[1]/div[2]/div[5]/div[2]//article/div/div/section[2]/span[1]/div/a\"\n",
        "    rating_path = \"/html/body/div[1]/div[2]/main/div[1]/div[2]/div[5]/div[2]//article/section/section[1]/div/span\"\n",
        "    content_path = \"/html/body/div[1]/div[2]/main/div[1]/div[2]/div[5]/div[2]//article/section/section[2]/section/div/div[1]/span\"\n",
        "    date_path = \"/html/body/div[1]/div[2]/main/div[1]/div[2]/div[5]/div[2]//article/section/section[1]/span/a\"\n",
        "\n",
        "    # Ambil elemen-elemen yang sesuai\n",
        "    review = driver.find_elements(By.XPATH, common_xpath)\n",
        "    ratings = driver.find_elements(By.XPATH, rating_path)\n",
        "    contents = driver.find_elements(By.XPATH, content_path)\n",
        "    date = driver.find_elements(By.XPATH, date_path)\n",
        "\n",
        "      # Iterasi untuk setiap elemen ulasan\n",
        "    for index, rating_element in enumerate(ratings):\n",
        "        try:\n",
        "            # Ambil atribut \"aria-label\" dari elemen rating\n",
        "            aria_label = rating_element.get_attribute(\"aria-label\")\n",
        "\n",
        "            # Ekstrak nilai rating menggunakan regex\n",
        "            match = re.search(r\"Rating (\\d) out of 5\", aria_label)\n",
        "            rating_number = int(match.group(1)) if match else \"Rating tidak valid\"\n",
        "        except Exception as e:\n",
        "            rating_number = \"Rating tidak ditemukan\"\n",
        "            print(f\"Kesalahan saat membaca rating untuk elemen {index}: {e}\")\n",
        "\n",
        "    # Pastikan panjang elemen konsisten\n",
        "    review_count = min(len(review), len(ratings), len(contents), len(date))\n",
        "\n",
        "    # Iterasi untuk mencetak setiap ulasan\n",
        "    for index in range(review_count):\n",
        "        profil = review[index].text if index < len(review) else \"N/A\"\n",
        "        dates = date[index].text if index < len(date) else \"N/A\"\n",
        "        # rating = rating_number[index].text if index < len(ratings) else \"N/A\"\n",
        "        content = contents[index].text if index < len(contents) else \"N/A\"\n",
        "\n",
        "        print(f\"Review {index + 1}: {profil}\")\n",
        "        print(f\"{dates}\")\n",
        "        print(f\"  Rating : {rating_number}\")\n",
        "        print(f\"  Content: {content}\")\n",
        "\n",
        "\n",
        "\n",
        "    # Tutup browser\n",
        "    driver.quit()\n",
        "\n",
        "# Jalankan program\n",
        "if __name__ == \"__main__\":\n",
        "    main()"
      ],
      "metadata": {
        "id": "LoLRQDX3TO_c"
      },
      "execution_count": null,
      "outputs": []
    }
  ]
}